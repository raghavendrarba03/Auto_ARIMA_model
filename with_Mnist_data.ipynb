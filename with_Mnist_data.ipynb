{
  "nbformat": 4,
  "nbformat_minor": 0,
  "metadata": {
    "colab": {
      "name": "with Mnist data",
      "version": "0.3.2",
      "provenance": [],
      "collapsed_sections": [],
      "include_colab_link": true
    },
    "kernelspec": {
      "display_name": "Python 3",
      "language": "python",
      "name": "python3"
    },
    "accelerator": "GPU"
  },
  "cells": [
    {
      "cell_type": "markdown",
      "metadata": {
        "id": "view-in-github",
        "colab_type": "text"
      },
      "source": [
        "<a href=\"https://colab.research.google.com/github/raghavendrarba03/Auto_ARIMA_model/blob/master/with_Mnist_data.ipynb\" target=\"_parent\"><img src=\"https://colab.research.google.com/assets/colab-badge.svg\" alt=\"Open In Colab\"/></a>"
      ]
    },
    {
      "metadata": {
        "colab_type": "text",
        "id": "r2NPAI4jZZgi"
      },
      "cell_type": "markdown",
      "source": [
        "# Modern Deep Learning: \n",
        "# Classify Fashion-MNIST with a simple CNN in Keras\n",
        "\n",
        "Original version from https://medium.com/tensorflow/hello-deep-learning-fashion-mnist-with-keras-50fcff8cd74a, adapted & extended by Xander Steenbrugge.\n",
        "![alt text](https://github.com/margaretmz/deep-learning/blob/master/images/modern%20dl_fash-mnist_keras.png?raw=1)"
      ]
    },
    {
      "metadata": {
        "colab_type": "text",
        "id": "18xLQCydFHqi"
      },
      "cell_type": "markdown",
      "source": [
        "## Why Jupyter Notebook?\n",
        "\n",
        "\n",
        "*   Interactive programming in the web browser\n",
        "*   Great for visualization\n",
        "*   Great for collabration\n",
        "*   Popular tool for studying machine learning / deep learning\n",
        "\n",
        "\n"
      ]
    },
    {
      "metadata": {
        "colab_type": "text",
        "id": "XLMRPLVCFwEc"
      },
      "cell_type": "markdown",
      "source": [
        "## Why Fashion-MNIST?\n",
        "\n",
        "\n",
        "*   MNIST is too easy\n",
        "*   MNIST is overused\n",
        "*   MNIST can not represent modern Computer Vision tasks\n",
        "\n",
        "Read more about the Fashion-MINST dataset in this paper [here](https://arxiv.org/abs/1708.07747) (**Fashion-MNIST: a Novel Image Dataset for Benchmarking Machine Learning Algorithms**)\n",
        "\n"
      ]
    },
    {
      "metadata": {
        "colab_type": "text",
        "id": "Ixyte299ZZgk"
      },
      "cell_type": "markdown",
      "source": [
        "## Notebook Overview\n",
        "\n",
        "This is a tutorial of how to classify **fashion_mnist** data with a simple **Convolutional Neural Network** in Keras. \n",
        "Keras is now part of the core TensorFlow library, in addition to being an independent open source project. \n",
        "\n",
        "We will work our way to an efficiently regularized, convolutional network in small, incremental steps, starting from a simple, linear model and gradually adding more and more complexity to our neural network.\n",
        "\n",
        "\n",
        "The [fashion_mnist](https://github.com/zalandoresearch/fashion-mnist) data: \n",
        "60,000 train and 10,000 test data with 10 categories. Each gray-scale image is 28x28.\n",
        "\n",
        "<br> **Label**\t**Description**\n",
        "<br> 0 T-shirt/top\n",
        "<br> 1 Trouser\n",
        "<br> 2 Pullover\n",
        "<br> 3 Dress\n",
        "<br> 4 Coat\n",
        "<br> 5 Sandal\n",
        "<br> 6 Shirt\n",
        "<br> 7 Sneaker\n",
        "<br> 8 Bag\n",
        "<br> 9 Ankle boot\n",
        "\n",
        "Each gray-scale image is 28x28"
      ]
    },
    {
      "metadata": {
        "id": "U17DsJp5Jklq",
        "colab_type": "text"
      },
      "cell_type": "markdown",
      "source": [
        "# Setup\n",
        "First, install TensorFlow version 1.8.0 and import the Fashion-MNIST dataset\n",
        "We will also be using numpy, matplotlib and the native Keras package, so install those if you haven't already!\n",
        "\n",
        "Check the requirements.txt file for all necessary dependencies!"
      ]
    },
    {
      "metadata": {
        "id": "IOWBegVfJkls",
        "colab_type": "code",
        "outputId": "7582e532-4d64-4dcc-ff0e-7212a7d45105",
        "colab": {
          "base_uri": "https://localhost:8080/",
          "height": 34
        }
      },
      "cell_type": "code",
      "source": [
        "#Test your imports:\n",
        "import tensorflow as tf\n",
        "import numpy as np\n",
        "import matplotlib.pyplot as plt\n",
        "import keras"
      ],
      "execution_count": 2,
      "outputs": [
        {
          "output_type": "stream",
          "text": [
            "Using TensorFlow backend.\n"
          ],
          "name": "stderr"
        }
      ]
    },
    {
      "metadata": {
        "id": "0YzTAUBzJkly",
        "colab_type": "text"
      },
      "cell_type": "markdown",
      "source": [
        "# 1 Data prep"
      ]
    },
    {
      "metadata": {
        "colab_type": "text",
        "id": "LbCigZtNZZgl"
      },
      "cell_type": "markdown",
      "source": [
        "## 1.0 Download the fashion_mnist data\n",
        "Now, let's download fashion-mnist which is one of the Keras datasets: https://keras.io/datasets/\n",
        "Pull the dataset from disk into cache memory by storing it in numpy arrays.\n",
        "As a sanity check, print some shapes to make sure everything is as expected! You should have images of 28 by 28 pixels."
      ]
    },
    {
      "metadata": {
        "colab_type": "code",
        "id": "d44TznbgZZgm",
        "outputId": "e4a9aa7d-76e0-4473-b7e3-599dea1ba408",
        "colab": {
          "base_uri": "https://localhost:8080/",
          "height": 51
        }
      },
      "cell_type": "code",
      "source": [
        "# Load the fashion-mnist pre-shuffled train data and test data\n",
        "(x_train_data, y_train_data), (x_test_data, y_test_data) = tf.keras.datasets.mnist.load_data()\n",
        "# Define the text labels:\n",
        "dataset_labels = [\"T-shirt/top\",  # index 0\n",
        "                        \"Trouser\",      # index 1\n",
        "                        \"Pullover\",     # index 2 \n",
        "                        \"Dress\",        # index 3 \n",
        "                        \"Coat\",         # index 4\n",
        "                        \"Sandal\",       # index 5\n",
        "                        \"Shirt\",        # index 6 \n",
        "                        \"Sneaker\",      # index 7 \n",
        "                        \"Bag\",          # index 8 \n",
        "                        \"Ankle boot\"]   # index 9\n",
        "\n",
        "#Print some shapes of the data:"
      ],
      "execution_count": 3,
      "outputs": [
        {
          "output_type": "stream",
          "text": [
            "Downloading data from https://storage.googleapis.com/tensorflow/tf-keras-datasets/mnist.npz\n",
            "11493376/11490434 [==============================] - 0s 0us/step\n"
          ],
          "name": "stdout"
        }
      ]
    },
    {
      "metadata": {
        "colab_type": "text",
        "id": "tWORMSC8FDR4"
      },
      "cell_type": "markdown",
      "source": [
        "## 1.1 Visualize the data\n",
        "Before we start defining any models, lets have a look at our data to get a sense of what we're dealing with.\n",
        "Use matplotlib to visualise some of the training images, can you identify the classes yourself?\n",
        "Perhaps create a simple, callable function that plots a dataset image, given its index."
      ]
    },
    {
      "metadata": {
        "colab_type": "code",
        "id": "aFe4wHGRFKle",
        "outputId": "5d797b31-750d-44a6-f42d-456441f7322d",
        "colab": {
          "base_uri": "https://localhost:8080/",
          "height": 413
        }
      },
      "cell_type": "code",
      "source": [
        "# Print training set shape - note there are 60,000 training data of image size of 28x28, 60,000 train labels)\n",
        "print(\"x_train shape:\", x_train_data.shape, \"y_train shape:\", y_train_data.shape)\n",
        "\n",
        "# Print the number of training and test datasets\n",
        "print(x_train_data.shape[0], 'train set samples.')\n",
        "print(x_test_data.shape[0], 'test set samples.')\n",
        "\n",
        "def plot_image(img_index):\n",
        "    # y_train contains the lables, ranging from 0 to 9\n",
        "    label_index = y_train_data[img_index]\n",
        "    plt.imshow(x_train_data[img_index]/255, cmap = 'gray')\n",
        "    plt.title(\"Image %d: %s\" %(img_index, dataset_labels[label_index]))\n",
        "    \n",
        "\n",
        "# Image index, you can pick any number between 0 and 59,999\n",
        "img_index = 125\n",
        "plot_image(img_index)\n"
      ],
      "execution_count": 4,
      "outputs": [
        {
          "output_type": "stream",
          "text": [
            "x_train shape: (60000, 28, 28) y_train shape: (60000,)\n",
            "60000 train set samples.\n",
            "10000 test set samples.\n"
          ],
          "name": "stdout"
        },
        {
          "output_type": "display_data",
          "data": {
            "image/png": "[encoded data removed]",
            "text/plain": [
              "<matplotlib.figure.Figure at 0x7f27211b0dd8>"
            ]
          },
          "metadata": {
            "tags": []
          }
        }
      ]
    },
    {
      "metadata": {
        "colab_type": "text",
        "id": "Zx-Ee6LHZZgt"
      },
      "cell_type": "markdown",
      "source": [
        "## 1.2 Data normalization\n",
        "First investigate the range of the pixel values in the images: what are the min and max you find?\n",
        "\n",
        "For a neural network to work well, we want these pixel values to be within the range 0-1. Rescale the image pixel values to make this so!"
      ]
    },
    {
      "metadata": {
        "colab_type": "code",
        "id": "XNh5NIckZZgu",
        "outputId": "e72697a7-34e4-421d-f8b6-29142571f10a",
        "colab": {
          "base_uri": "https://localhost:8080/",
          "height": 51
        }
      },
      "cell_type": "code",
      "source": [
        "print(\"Dataset samples have min of %.1f and max of %.1f.\" %(np.min(x_train_data), np.max(x_train_data)))\n",
        "\n",
        "x_train_data = x_train_data.astype('float32') / 255\n",
        "x_test_data = x_test_data.astype('float32') / 255\n",
        "\n",
        "print(\"After rescaling, images now have min of %.1f and max of %.1f.\" %(np.min(x_train_data), np.max(x_train_data)))\n"
      ],
      "execution_count": 5,
      "outputs": [
        {
          "output_type": "stream",
          "text": [
            "Dataset samples have min of 0.0 and max of 255.0.\n",
            "After rescaling, images now have min of 0.0 and max of 1.0.\n"
          ],
          "name": "stdout"
        }
      ]
    },
    {
      "metadata": {
        "colab_type": "text",
        "id": "CFlNHktHBtru"
      },
      "cell_type": "markdown",
      "source": [
        "## 1.3 Split the data into train/validation/test data sets\n",
        "In Machine Learning, we always want to be able to validate how well our model is doing on data it hasn't yet trained on.\n",
        "\n",
        "*   Training data - used for training the model\n",
        "*   Validation data - used for tuning the hyperparameters and evaluate the models\n",
        "*   Test data - used to test the model after the model has gone through initial vetting by the validation set.\n",
        "\n",
        "Split off 10% of the training data and put this into the validation set!"
      ]
    },
    {
      "metadata": {
        "id": "zInpFJa8JkmL",
        "colab_type": "code",
        "outputId": "1ae8b7d9-2eae-46d5-8abb-794bde08829f",
        "colab": {
          "base_uri": "https://localhost:8080/",
          "height": 34
        }
      },
      "cell_type": "code",
      "source": [
        "validation_fraction = .1\n",
        "\n",
        "## ToDo ##\n",
        "\n",
        "total_train_samples = len(x_train_data)\n",
        "validation_samples = int(total_train_samples * validation_fraction)\n",
        "train_samples = total_train_samples - validation_samples\n",
        "\n",
        "# Further break training data into train / validation sets\n",
        "(x_train, y_train) = x_train_data[:train_samples], y_train_data[:train_samples] \n",
        "(x_valid, y_valid) = x_train_data[train_samples:], y_train_data[train_samples:]\n",
        "\n",
        "x_test, y_test = x_test_data, y_test_data\n",
        "print(\"We'll use %d train - %d validation - %d test images.\" %(train_samples, validation_samples, len(x_test)))\n"
      ],
      "execution_count": 6,
      "outputs": [
        {
          "output_type": "stream",
          "text": [
            "We'll use 54000 train - 6000 validation - 10000 test images.\n"
          ],
          "name": "stdout"
        }
      ]
    },
    {
      "metadata": {
        "id": "4pvhSzUcJkmQ",
        "colab_type": "text"
      },
      "cell_type": "markdown",
      "source": [
        "## 1.4 Some final preprocessing\n",
        "Most image datasets consist of rgb images. Because of this, Keras will expect each image to have 3 dimensions: [x_pixels, y_pixels, color_channels]. Since our images are grayscale, the color dimension is equal to one and implicitly left out in the numpy arrays. Reshape the image data to contain an explicit color channel of dimension 1. (Your final numpy arrays should have the dimension [nr_samples, x_pixels, y_pixels, 1].)\n",
        "\n",
        "Secondly, it is very common in deep learning to do classification tasks. To train our model, we will use the categorical crossentropy loss (see https://keras.io/losses/). To compute this, we have to format our image labels as one-hot-vectors. The easiest way to do this is with the tf.keras.utils.to_categorical() function, see: https://www.tensorflow.org/api_docs/python/tf/keras/utils/to_categorical."
      ]
    },
    {
      "metadata": {
        "colab_type": "code",
        "id": "1ShU787gZZg0",
        "outputId": "0f024008-c0d2-4e8e-df4c-3c7baaa67ecb",
        "colab": {
          "base_uri": "https://localhost:8080/",
          "height": 85
        }
      },
      "cell_type": "code",
      "source": [
        "# Reshape input data from (28, 28) to (28, 28, 1)\n",
        "w, h = 28, 28\n",
        "x_train = x_train.reshape(x_train.shape[0], w, h, 1)\n",
        "x_valid = x_valid.reshape(x_valid.shape[0], w, h, 1)\n",
        "x_test = x_test.reshape(x_test.shape[0], w, h, 1)\n",
        "\n",
        "# One-hot encode the labels\n",
        "y_train = tf.keras.utils.to_categorical(y_train, 10)\n",
        "y_valid = tf.keras.utils.to_categorical(y_valid, 10)\n",
        "y_test = tf.keras.utils.to_categorical(y_test, 10)\n",
        "\n",
        "# Print training set shape\n",
        "print(\"x_train shape:\", x_train.shape, \"y_train shape:\", y_train.shape)\n",
        "\n",
        "# Print the number of training, validation, and test datasets\n",
        "print(x_train.shape, 'train set')\n",
        "print(x_valid.shape, 'validation set')\n",
        "print(x_test.shape, 'test set')\n"
      ],
      "execution_count": 7,
      "outputs": [
        {
          "output_type": "stream",
          "text": [
            "x_train shape: (54000, 28, 28, 1) y_train shape: (54000, 10)\n",
            "(54000, 28, 28, 1) train set\n",
            "(6000, 28, 28, 1) validation set\n",
            "(10000, 28, 28, 1) test set\n"
          ],
          "name": "stdout"
        }
      ]
    },
    {
      "metadata": {
        "colab_type": "text",
        "id": "HhalcO03ZZg3"
      },
      "cell_type": "markdown",
      "source": [
        "# 2 Creating a model\n",
        "\n",
        "There are two APIs for defining a model in Keras:\n",
        "1. [Sequential model API](https://keras.io/models/sequential/)\n",
        "2. [Functional API](https://keras.io/models/model/)\n",
        "\n",
        "In this notebook we are using the Sequential model API. \n",
        "If you are interested in a tutorial using the Functional API, checkout Sara Robinson's blog [Predicting the price of wine with the Keras Functional API and TensorFlow](https://medium.com/tensorflow/predicting-the-price-of-wine-with-the-keras-functional-api-and-tensorflow-a95d1c2c1b03).\n",
        "\n",
        "In defining the models today, we will be using some of these Keras APIs: (you can check the documentation with these links:)\n",
        "*   Dense()    [link text](https://keras.io/layers/core/) - Create a fully connected layer\n",
        "*   Conv2D()   [link text](https://www.tensorflow.org/api_docs/python/tf/keras/layers/Conv2D/) - create a convolutional layer \n",
        "*   Pooling()  [link text](https://keras.io/layers/pooling/) - create a pooling layer \n",
        "*   Dropout()  [link text](https://www.tensorflow.org/api_docs/python/tf/keras/layers/Dropout) - apply drop out "
      ]
    },
    {
      "metadata": {
        "id": "wRPFrM0sJkma",
        "colab_type": "text"
      },
      "cell_type": "markdown",
      "source": [
        "## 2.0 Baseline: a simple linear model\n",
        "As a first baseline, we will create a very simple, linear model consisting of one linear transformation matrix and train it with backpropagation.\n",
        "\n",
        "*  To create the model object, use the tf.keras.Sequential() function as shown here: https://www.tensorflow.org/api_docs/python/tf/keras/models/Sequential.\n",
        "Since we're not using convolutions for now, we can simply flatten all input pixels into a single row per image containing 28x28 pixel values.\n",
        "\n",
        "*  Then add a single, linear layer that maps all these pixels onto the 10 output classes. Since the outputs represent class probabilities we can use a softmax activation at the output of our model.\n",
        "\n",
        "*  You can print a description of your model using model.summary()\n",
        "\n",
        "Extra question: what does the softmax activation actually do? How does this affect our training procedure?\n",
        "Here is a good post explaining most of the details: https://medium.com/data-science-bootcamp/understand-the-softmax-function-in-minutes-f3a59641e86d"
      ]
    },
    {
      "metadata": {
        "id": "a0rGluslJkmb",
        "colab_type": "code",
        "outputId": "0b73e1f0-0435-44ec-8de7-bb6f125ec25e",
        "colab": {
          "base_uri": "https://localhost:8080/",
          "height": 204
        }
      },
      "cell_type": "code",
      "source": [
        "# Create the model:\n",
        "model = tf.keras.Sequential()\n",
        "\n",
        "# Must define the input shape in the first layer of the neural network\n",
        "model.add(tf.keras.layers.Flatten(input_shape=(28,28,1)))\n",
        "model.add(tf.keras.layers.Dense(10, activation='softmax'))\n",
        "\n",
        "# Take a look at the model summary\n",
        "model.summary()\n"
      ],
      "execution_count": 8,
      "outputs": [
        {
          "output_type": "stream",
          "text": [
            "_________________________________________________________________\n",
            "Layer (type)                 Output Shape              Param #   \n",
            "=================================================================\n",
            "flatten (Flatten)            (None, 784)               0         \n",
            "_________________________________________________________________\n",
            "dense (Dense)                (None, 10)                7850      \n",
            "=================================================================\n",
            "Total params: 7,850\n",
            "Trainable params: 7,850\n",
            "Non-trainable params: 0\n",
            "_________________________________________________________________\n"
          ],
          "name": "stdout"
        }
      ]
    },
    {
      "metadata": {
        "colab_type": "text",
        "id": "FhxJ5dinZZg8"
      },
      "cell_type": "markdown",
      "source": [
        "## Compile the model\n",
        "Configure the learning process with compile() API before training the model. It receives three arguments:\n",
        "\n",
        "*   An optimizer, we'll use adam\n",
        "*   A loss function, we'll use the 'categorical_crossentropy'\n",
        "*   A list of metrics, here we'll start with 'accuracy'\n",
        "\n",
        "See https://keras.io/models/model/ for details."
      ]
    },
    {
      "metadata": {
        "colab_type": "code",
        "id": "CQUlOa8cZZg9",
        "colab": {}
      },
      "cell_type": "code",
      "source": [
        "#Compile the model:my optimizer can also be tf.keras.optimizer\n",
        "model.compile(loss='categorical_crossentropy',\n",
        "             optimizer='adam',\n",
        "             metrics=['accuracy'])"
      ],
      "execution_count": 0,
      "outputs": []
    },
    {
      "metadata": {
        "colab_type": "text",
        "id": "DtOvh3YVZZg_"
      },
      "cell_type": "markdown",
      "source": [
        "## Train the model\n",
        "\n",
        "Now let's train the model with fit() API.\n",
        "\n",
        "We use  the [ModelCheckpoint](https://keras.io/callbacks/#modelcheckpoint) API to save the model after every epoch. Set \"save_best_only = True\" to save only when the validation accuracy improves.\n",
        "\n",
        "You will also have to configure the batch-size and the number of epochs to train for.\n",
        "What do these words mean exactly?"
      ]
    },
    {
      "metadata": {
        "colab_type": "code",
        "id": "ZTmapAttZZhA",
        "outputId": "276ae64d-67a0-41ff-c334-619943669b00",
        "colab": {
          "base_uri": "https://localhost:8080/",
          "height": 1411
        }
      },
      "cell_type": "code",
      "source": [
        "import keras.callbacks\n",
        "from keras.callbacks import ModelCheckpoint\n",
        "\n",
        "checkpointer = ModelCheckpoint(filepath='model.weights.best.hdf5', verbose = 1, save_best_only=True)\n",
        "model.fit(x_train,\n",
        "         y_train,\n",
        "         batch_size=64,\n",
        "         epochs=20,\n",
        "         validation_data=(x_valid, y_valid),\n",
        "         callbacks=[checkpointer])"
      ],
      "execution_count": 10,
      "outputs": [
        {
          "output_type": "stream",
          "text": [
            "Train on 54000 samples, validate on 6000 samples\n",
            "Epoch 1/20\n",
            "53888/54000 [============================>.] - ETA: 0s - loss: 0.5833 - acc: 0.8532\n",
            "Epoch 00001: val_loss improved from inf to 0.30190, saving model to model.weights.best.hdf5\n",
            "54000/54000 [==============================] - 5s 91us/step - loss: 0.5829 - acc: 0.8533 - val_loss: 0.3019 - val_acc: 0.9202\n",
            "Epoch 2/20\n",
            "53632/54000 [============================>.] - ETA: 0s - loss: 0.3371 - acc: 0.9076\n",
            "Epoch 00002: val_loss improved from 0.30190 to 0.26022, saving model to model.weights.best.hdf5\n",
            "54000/54000 [==============================] - 4s 74us/step - loss: 0.3370 - acc: 0.9077 - val_loss: 0.2602 - val_acc: 0.9297\n",
            "Epoch 3/20\n",
            "53824/54000 [============================>.] - ETA: 0s - loss: 0.3058 - acc: 0.9147\n",
            "Epoch 00003: val_loss improved from 0.26022 to 0.24491, saving model to model.weights.best.hdf5\n",
            "54000/54000 [==============================] - 4s 72us/step - loss: 0.3058 - acc: 0.9146 - val_loss: 0.2449 - val_acc: 0.9337\n",
            "Epoch 4/20\n",
            "53952/54000 [============================>.] - ETA: 0s - loss: 0.2909 - acc: 0.9186\n",
            "Epoch 00004: val_loss improved from 0.24491 to 0.23939, saving model to model.weights.best.hdf5\n",
            "54000/54000 [==============================] - 4s 72us/step - loss: 0.2909 - acc: 0.9186 - val_loss: 0.2394 - val_acc: 0.9342\n",
            "Epoch 5/20\n",
            "53888/54000 [============================>.] - ETA: 0s - loss: 0.2820 - acc: 0.9211\n",
            "Epoch 00005: val_loss improved from 0.23939 to 0.23284, saving model to model.weights.best.hdf5\n",
            "54000/54000 [==============================] - 4s 73us/step - loss: 0.2817 - acc: 0.9212 - val_loss: 0.2328 - val_acc: 0.9357\n",
            "Epoch 6/20\n",
            "53504/54000 [============================>.] - ETA: 0s - loss: 0.2757 - acc: 0.9225\n",
            "Epoch 00006: val_loss improved from 0.23284 to 0.23096, saving model to model.weights.best.hdf5\n",
            "54000/54000 [==============================] - 4s 72us/step - loss: 0.2756 - acc: 0.9225 - val_loss: 0.2310 - val_acc: 0.9377\n",
            "Epoch 7/20\n",
            "53952/54000 [============================>.] - ETA: 0s - loss: 0.2708 - acc: 0.9245\n",
            "Epoch 00007: val_loss improved from 0.23096 to 0.22665, saving model to model.weights.best.hdf5\n",
            "54000/54000 [==============================] - 4s 73us/step - loss: 0.2706 - acc: 0.9245 - val_loss: 0.2267 - val_acc: 0.9395\n",
            "Epoch 8/20\n",
            "53440/54000 [============================>.] - ETA: 0s - loss: 0.2673 - acc: 0.9250\n",
            "Epoch 00008: val_loss improved from 0.22665 to 0.22542, saving model to model.weights.best.hdf5\n",
            "54000/54000 [==============================] - 4s 73us/step - loss: 0.2670 - acc: 0.9250 - val_loss: 0.2254 - val_acc: 0.9398\n",
            "Epoch 9/20\n",
            "53376/54000 [============================>.] - ETA: 0s - loss: 0.2641 - acc: 0.9268\n",
            "Epoch 00009: val_loss improved from 0.22542 to 0.22460, saving model to model.weights.best.hdf5\n",
            "54000/54000 [==============================] - 4s 73us/step - loss: 0.2638 - acc: 0.9269 - val_loss: 0.2246 - val_acc: 0.9413\n",
            "Epoch 10/20\n",
            "53888/54000 [============================>.] - ETA: 0s - loss: 0.2611 - acc: 0.9281\n",
            "Epoch 00010: val_loss improved from 0.22460 to 0.22351, saving model to model.weights.best.hdf5\n",
            "54000/54000 [==============================] - 4s 73us/step - loss: 0.2610 - acc: 0.9281 - val_loss: 0.2235 - val_acc: 0.9395\n",
            "Epoch 11/20\n",
            "53504/54000 [============================>.] - ETA: 0s - loss: 0.2589 - acc: 0.9282\n",
            "Epoch 00011: val_loss improved from 0.22351 to 0.22178, saving model to model.weights.best.hdf5\n",
            "54000/54000 [==============================] - 4s 73us/step - loss: 0.2586 - acc: 0.9283 - val_loss: 0.2218 - val_acc: 0.9390\n",
            "Epoch 12/20\n",
            "53952/54000 [============================>.] - ETA: 0s - loss: 0.2567 - acc: 0.9284\n",
            "Epoch 00012: val_loss did not improve from 0.22178\n",
            "54000/54000 [==============================] - 4s 73us/step - loss: 0.2567 - acc: 0.9284 - val_loss: 0.2221 - val_acc: 0.9400\n",
            "Epoch 13/20\n",
            "53824/54000 [============================>.] - ETA: 0s - loss: 0.2547 - acc: 0.9290\n",
            "Epoch 00013: val_loss improved from 0.22178 to 0.22128, saving model to model.weights.best.hdf5\n",
            "54000/54000 [==============================] - 4s 72us/step - loss: 0.2548 - acc: 0.9290 - val_loss: 0.2213 - val_acc: 0.9403\n",
            "Epoch 14/20\n",
            "53504/54000 [============================>.] - ETA: 0s - loss: 0.2527 - acc: 0.9298\n",
            "Epoch 00014: val_loss did not improve from 0.22128\n",
            "54000/54000 [==============================] - 4s 72us/step - loss: 0.2533 - acc: 0.9297 - val_loss: 0.2235 - val_acc: 0.9390\n",
            "Epoch 15/20\n",
            "53760/54000 [============================>.] - ETA: 0s - loss: 0.2521 - acc: 0.9305\n",
            "Epoch 00015: val_loss improved from 0.22128 to 0.22031, saving model to model.weights.best.hdf5\n",
            "54000/54000 [==============================] - 4s 73us/step - loss: 0.2522 - acc: 0.9304 - val_loss: 0.2203 - val_acc: 0.9397\n",
            "Epoch 16/20\n",
            "53376/54000 [============================>.] - ETA: 0s - loss: 0.2511 - acc: 0.9303\n",
            "Epoch 00016: val_loss did not improve from 0.22031\n",
            "54000/54000 [==============================] - 4s 73us/step - loss: 0.2509 - acc: 0.9303 - val_loss: 0.2238 - val_acc: 0.9393\n",
            "Epoch 17/20\n",
            "53952/54000 [============================>.] - ETA: 0s - loss: 0.2495 - acc: 0.9310\n",
            "Epoch 00017: val_loss did not improve from 0.22031\n",
            "54000/54000 [==============================] - 4s 72us/step - loss: 0.2494 - acc: 0.9310 - val_loss: 0.2232 - val_acc: 0.9393\n",
            "Epoch 18/20\n",
            "53760/54000 [============================>.] - ETA: 0s - loss: 0.2480 - acc: 0.9317\n",
            "Epoch 00018: val_loss did not improve from 0.22031\n",
            "54000/54000 [==============================] - 4s 73us/step - loss: 0.2480 - acc: 0.9317 - val_loss: 0.2207 - val_acc: 0.9382\n",
            "Epoch 19/20\n",
            "53248/54000 [============================>.] - ETA: 0s - loss: 0.2465 - acc: 0.9310\n",
            "Epoch 00019: val_loss did not improve from 0.22031\n",
            "54000/54000 [==============================] - 4s 72us/step - loss: 0.2472 - acc: 0.9309 - val_loss: 0.2219 - val_acc: 0.9388\n",
            "Epoch 20/20\n",
            "53632/54000 [============================>.] - ETA: 0s - loss: 0.2467 - acc: 0.9319\n",
            "Epoch 00020: val_loss did not improve from 0.22031\n",
            "54000/54000 [==============================] - 4s 73us/step - loss: 0.2467 - acc: 0.9320 - val_loss: 0.2228 - val_acc: 0.9400\n"
          ],
          "name": "stdout"
        },
        {
          "output_type": "execute_result",
          "data": {
            "text/plain": [
              "<tensorflow.python.keras.callbacks.History at 0x7f271db30978>"
            ]
          },
          "metadata": {
            "tags": []
          },
          "execution_count": 10
        }
      ]
    },
    {
      "metadata": {
        "colab_type": "text",
        "id": "e-MGLwZQy05d"
      },
      "cell_type": "markdown",
      "source": [
        "## Load Model with the best validation accuracy\n",
        "Use the .load_weights() function for this!"
      ]
    },
    {
      "metadata": {
        "colab_type": "code",
        "id": "UD1tecxUZZhE",
        "colab": {}
      },
      "cell_type": "code",
      "source": [
        "# Load the weights with the best validation accuracy:\n",
        "model.load_weights('model.weights.best.hdf5')"
      ],
      "execution_count": 0,
      "outputs": []
    },
    {
      "metadata": {
        "colab_type": "text",
        "id": "9RTRkan4yq5H"
      },
      "cell_type": "markdown",
      "source": [
        "## Test Accuracy\n",
        "Since we used our validation set to choose the best model, we are implicitly already overfitting on this subset of the data. To get the final accuracy estimate our model would get on completely unseen data, compute the accuracy on the test set! Use the .evaluate() function for this."
      ]
    },
    {
      "metadata": {
        "colab_type": "code",
        "id": "VZtqBqFFy62R",
        "outputId": "8f006f36-efb2-4617-f52e-69a78770f89e",
        "colab": {
          "base_uri": "https://localhost:8080/",
          "height": 51
        }
      },
      "cell_type": "code",
      "source": [
        "# Evaluate the model on test set, and print the accuracy you get:\n",
        "score = model.evaluate(x_test, y_test, verbose=0)\n",
        "print('\\n', 'Test accuracy:', score[1])"
      ],
      "execution_count": 11,
      "outputs": [
        {
          "output_type": "stream",
          "text": [
            "\n",
            " Test accuracy: 0.927\n"
          ],
          "name": "stdout"
        }
      ]
    },
    {
      "metadata": {
        "colab_type": "text",
        "id": "oJv7XEk10bOv"
      },
      "cell_type": "markdown",
      "source": [
        "## Visualize prediction\n",
        "Now let's visualize the predictions from the model you just trained. \n",
        "First we get the predictions with the model from the test data.\n",
        "Then we visualize some images from the test data set, and set the titles with the prediction (and the groud truth label).\n",
        "If the prediction matches the true label, the title will be green; otherwise it's displayed in red.\n",
        "Package everything in a nice, callable function 'visualize_model_predictions(model, x, y)'"
      ]
    },
    {
      "metadata": {
        "colab_type": "code",
        "id": "QwNmlfIC0YxM",
        "outputId": "4f43ad66-fbdf-4810-f595-80549bbf3371",
        "colab": {
          "base_uri": "https://localhost:8080/",
          "height": 523
        }
      },
      "cell_type": "code",
      "source": [
        "def visualize_model_predictions(model, x_test, y_test, title_string):\n",
        "    y_hat = model.predict(x_test)\n",
        "\n",
        "    # Plot a random sample of 10 test images, their predicted labels and ground truth\n",
        "    figure = plt.figure(figsize=(20, 8))\n",
        "    for i, index in enumerate(np.random.choice(x_test.shape[0], size=32, replace=False)):\n",
        "        ax = figure.add_subplot(4, 8, i + 1, xticks=[], yticks=[])\n",
        "        # Display each image\n",
        "        ax.imshow(np.squeeze(x_test[index]), cmap = 'gray')\n",
        "        predict_index = np.argmax(y_hat[index])\n",
        "        true_index = np.argmax(y_test[index])\n",
        "        # Set the title for each image\n",
        "        ax.set_title(\"{} ({})\".format(dataset_labels[predict_index], \n",
        "                                      dataset_labels[true_index]),\n",
        "                                      color=(\"green\" if predict_index == true_index else \"red\"))\n",
        "    figure.suptitle(\"%s results:\" %title_string, fontsize=25)\n",
        "        \n",
        "visualize_model_predictions(model, x_test, y_test, 'Test')\n",
        " "
      ],
      "execution_count": 12,
      "outputs": [
        {
          "output_type": "display_data",
          "data": {
            "image/png": "[encoded data removed]",
            "text/plain": [
              "<matplotlib.figure.Figure at 0x7f27212ce320>"
            ]
          },
          "metadata": {
            "tags": []
          }
        }
      ]
    },
    {
      "metadata": {
        "id": "bW-dUGOCJknd",
        "colab_type": "text"
      },
      "cell_type": "markdown",
      "source": [
        "## Extra Assignment:\n",
        "Visualise what this single, linear layer has learned to detect for each class by plotting the weights of trained network.\n",
        "Our transformation layer is a weight matrix of dimension [28x28, 10]. In a sense, it has learned a 'filter' for each of the 10 classes. Try to plot what these 10 filters look like, by reshaping them into 28x28 images and visualising the results for each class with matplotlib.imshow().\n",
        "\n",
        "To get the weight matrix of your trained model, you can use the model.layers and .get_weights() functions.\n",
        "\n",
        "## Extra Assignment 2:\n",
        "Compare the filters you just plotted with the average image for each class, do you notice any differences? Why?"
      ]
    },
    {
      "metadata": {
        "id": "THWe4yEcJknh",
        "colab_type": "code",
        "outputId": "69f04fa6-d756-4cc4-8d03-a6fb6f9dfc9b",
        "colab": {
          "base_uri": "https://localhost:8080/",
          "height": 34
        }
      },
      "cell_type": "code",
      "source": [
        "for layer in model.layers:\n",
        "  weights = layer.get_weights()\n",
        "  if len(weights)>0:\n",
        "    print(\"Found FC Layer!\")\n",
        "    w,b = weights\n",
        "    filters = np.reshape(w, (28,28,10))"
      ],
      "execution_count": 13,
      "outputs": [
        {
          "output_type": "stream",
          "text": [
            "Found FC Layer!\n"
          ],
          "name": "stdout"
        }
      ]
    },
    {
      "metadata": {
        "id": "_OeQqu7HlJ2k",
        "colab_type": "code",
        "outputId": "1fee67d4-1a17-404c-ffa6-28fbf4fcf737",
        "colab": {
          "base_uri": "https://localhost:8080/",
          "height": 476
        }
      },
      "cell_type": "code",
      "source": [
        "def visualize_filters(filters, title_string):\n",
        "    figure = plt.figure(figsize=(20, 8))\n",
        "    for i, index in enumerate(np.random.choice(x_test.shape[0], size=10, replace=False)):\n",
        "        ax = figure.add_subplot(2, 5, i + 1, xticks=[], yticks=[])\n",
        "        ax.imshow(filters[:,:,i], cmap = 'viridis')\n",
        "        ax.set_title(\"%s for %s\" %(title_string, dataset_labels[i]))\n",
        "\n",
        "visualize_filters(filters, 'Filter')\n"
      ],
      "execution_count": 14,
      "outputs": [
        {
          "output_type": "display_data",
          "data": {
            "image/png": "[encoded data removed]",
            "text/plain": [
              "<matplotlib.figure.Figure at 0x7f271d936128>"
            ]
          },
          "metadata": {
            "tags": []
          }
        }
      ]
    },
    {
      "metadata": {
        "id": "96vMZS5mnI3H",
        "colab_type": "code",
        "outputId": "f6b7d5e7-f64f-4e45-c48f-f6fc0e47e9bb",
        "colab": {
          "base_uri": "https://localhost:8080/",
          "height": 476
        }
      },
      "cell_type": "code",
      "source": [
        "#Plot the average class images:\n",
        "avg_images = np.zeros((28,28,1,10))\n",
        "class_images = [0]*10\n",
        "\n",
        "for i in range(len(x_train)):\n",
        "    img = x_train[i]\n",
        "    label = np.argmax(y_train[i])\n",
        "    \n",
        "    avg_images[:,:,:,label] += img\n",
        "    class_images[label] += 1\n",
        "\n",
        "for i in range(10):\n",
        "    avg_images[:,:,:,i] = avg_images[:,:,:,i]/class_images[i]\n",
        "\n",
        "avg_images = np.squeeze(avg_images)\n",
        "visualize_filters(avg_images, 'Average image')\n"
      ],
      "execution_count": 15,
      "outputs": [
        {
          "output_type": "display_data",
          "data": {
            "image/png": "[encoded data removed]",
            "text/plain": [
              "<matplotlib.figure.Figure at 0x7f271d936588>"
            ]
          },
          "metadata": {
            "tags": []
          }
        }
      ]
    },
    {
      "metadata": {
        "id": "DRSouZWvnO0Q",
        "colab_type": "code",
        "colab": {}
      },
      "cell_type": "code",
      "source": [
        ""
      ],
      "execution_count": 0,
      "outputs": []
    },
    {
      "metadata": {
        "id": "a7JynA-AJknn",
        "colab_type": "text"
      },
      "cell_type": "markdown",
      "source": [
        "## Extra assignment 3:\n",
        "Change the code in block 1.0 to work with MNIST instead of Fashion-MNIST (everything else can stay the same). Rerun all the code you've written so far.\n",
        "\n",
        "What Test-accuracy do you get with a simple, linear model? Can you see now why MNIST is gradually losing favor as a benchmarking dataset? What about the filter visualisations VS the average images, they look interesting right? Try to think about what exactly is going on here..."
      ]
    },
    {
      "metadata": {
        "id": "V02LDTL9Jkno",
        "colab_type": "text"
      },
      "cell_type": "markdown",
      "source": [
        "# 2.1 Let's turn this into a real neural network!\n",
        "Add a single hidden layer to the model and add an activation function after that layer (eg 'relu').\n",
        "The number of hidden units in this layer is usually something in between the input dimension (28x28) and the output dimension (10). Play around with the activation function and the number of hidden units, how do they affect the models performance / training speed?"
      ]
    },
    {
      "metadata": {
        "id": "hSF5Qi6xJknq",
        "colab_type": "code",
        "colab": {}
      },
      "cell_type": "code",
      "source": [
        "model = tf.keras.Sequential()\n",
        "\n",
        "# Flatten --> Dense_Relu --> Dense_Softmax:\n",
        "\n",
        "\n",
        "\n",
        "# Take a look at the model summary:\n",
        "model.summary()\n",
        "\n",
        "#Compile the model:\n"
      ],
      "execution_count": 0,
      "outputs": []
    },
    {
      "metadata": {
        "id": "ANUzYTXcJknu",
        "colab_type": "code",
        "colab": {}
      },
      "cell_type": "code",
      "source": [
        "## Add a checkpointer and fit the model on the train data: (you have already done this, see above!)\n"
      ],
      "execution_count": 0,
      "outputs": []
    },
    {
      "metadata": {
        "id": "_cRXYP4nJkny",
        "colab_type": "text"
      },
      "cell_type": "markdown",
      "source": [
        "## Evaluation\n",
        "Load the best model (according to the validation set) and compute the test accuracy. Re-use your 'visuzalize_model_predictions()' function to display some results.\n",
        "\n",
        "**Extra question:** Why can't we also visualise the filters learned by this neural network with one hidden layer? What's the problem in this case? Notice how this gives rise to the whole \"interpretability\" problem in Deep Learning."
      ]
    },
    {
      "metadata": {
        "id": "CJe-E1OXJkn0",
        "colab_type": "code",
        "colab": {}
      },
      "cell_type": "code",
      "source": [
        "## Load the best model:\n",
        "\n",
        "## Get test predictions:\n",
        "\n",
        "## Visualise some results:\n",
        "visualize_model_predictions(model, x_test, y_test)"
      ],
      "execution_count": 0,
      "outputs": []
    },
    {
      "metadata": {
        "colab_type": "text",
        "id": "8AehWdRAVKN5"
      },
      "cell_type": "markdown",
      "source": [
        "## 2.2 Let's make our model Deeper! \n",
        "Add two extra hidden layers to start with.\n",
        "Explore the effects of adding more depth/width to your network, what happens to the number of trainable parameters?\n",
        "What about training speed, test-accuracy, ... Notice that there usually is a clear tradeoff between training-time and model performance."
      ]
    },
    {
      "metadata": {
        "id": "fBqwD-j-Jkn6",
        "colab_type": "code",
        "colab": {}
      },
      "cell_type": "code",
      "source": [
        "model = tf.keras.Sequential()\n",
        "\n",
        "# Define the model architecture:\n",
        "\n",
        "# Take a look at the model summary\n",
        "model.summary()\n",
        "model.compile(loss='categorical_crossentropy', optimizer='adam', metrics=['accuracy'])"
      ],
      "execution_count": 0,
      "outputs": []
    },
    {
      "metadata": {
        "id": "c9RwniOzJkn_",
        "colab_type": "text"
      },
      "cell_type": "markdown",
      "source": [
        "# Adding callbacks\n",
        "Because we just made our model a lot deeper, it will have to train longer in order to use its full potential!\n",
        "But obviously, we don't want to keep training too long or we'll overfit.\n",
        "To get more info during training we'll add two extra callbacks to the model.fit() method that:\n",
        "1. Stop the model training loop if the validation loss keeps dropping consistently (eg 10 times in a row) (This is a default callback, available in Keras)\n",
        "2. Periodically visualise the validation error while training (This is a custom callback function you will have to create yourself)\n",
        "\n",
        "You can find more documentation here: https://keras.io/callbacks/ (For the custom callback, scroll down to \"Create a callback\" section)"
      ]
    },
    {
      "metadata": {
        "id": "JxbxaoF4JkoA",
        "colab_type": "code",
        "colab": {}
      },
      "cell_type": "code",
      "source": [
        "class plot_train_progress(keras.callbacks.Callback):\n",
        "    def __init__(self):\n",
        "        #Class attributes eg 'self.plot_frequency'\n",
        "        # ToDo\n",
        "        \n",
        "    def on_train_begin(self, logs={}):\n",
        "        self.train_losses = []\n",
        "        self.val_losses = []\n",
        "\n",
        "    def on_epoch_end(self, epoch, logs={}):\n",
        "        if epoch % self.plot_frequency == 0:\n",
        "            #plot the training progress:\n",
        "            #ToDo\n",
        "\n",
        "    def on_batch_end(self, batch, logs={}):\n",
        "        self.train_losses.append(logs.get('loss'))\n",
        "        self.val_losses.append(logs.get('val_loss'))\n",
        "\n",
        "# Early stopping callback:\n",
        "\n",
        "# Checkpointer callback:\n",
        "\n",
        "# Plot_train_progress callback:\n",
        "\n",
        "callbacks_list = [checkpointer, plot_train_progress_cb, earlyStopping]"
      ],
      "execution_count": 0,
      "outputs": []
    },
    {
      "metadata": {
        "scrolled": false,
        "id": "Q-52hGGyJkoE",
        "colab_type": "code",
        "colab": {}
      },
      "cell_type": "code",
      "source": [
        "model.fit(x_train,\n",
        "         y_train,\n",
        "         batch_size=128,\n",
        "         epochs=25,\n",
        "         validation_data=(x_valid, y_valid),\n",
        "         callbacks=callbacks_list)"
      ],
      "execution_count": 0,
      "outputs": []
    },
    {
      "metadata": {
        "id": "a1VhEY7VJkoL",
        "colab_type": "text"
      },
      "cell_type": "markdown",
      "source": [
        "## Evaluate the model"
      ]
    },
    {
      "metadata": {
        "id": "2xbem6fMJkoN",
        "colab_type": "code",
        "colab": {}
      },
      "cell_type": "code",
      "source": [
        "model.load_weights('model.weights.best.hdf5')\n",
        "score = model.evaluate(x_test, y_test, verbose=0)\n",
        "\n",
        "print('Test accuracy: %.2f%%' %(100*score[1]))"
      ],
      "execution_count": 0,
      "outputs": []
    },
    {
      "metadata": {
        "id": "sJJfwK8dJkoW",
        "colab_type": "text"
      },
      "cell_type": "markdown",
      "source": [
        "**Extra:** To experiment and get some intuition as to why making the network deeper makes it easier to fit the data, you can experiment with this amazing in-browser tool: https://playground.tensorflow.org/"
      ]
    },
    {
      "metadata": {
        "id": "JYayKDzNJkoZ",
        "colab_type": "text"
      },
      "cell_type": "markdown",
      "source": [
        "## 2.2 Convolutions \n",
        "### Lets add in some of the big guns in Computer Vision: Convolutions!\n",
        "\n",
        "Notice that up until now, we've always started our network with a Flatten() operation that basically throws away all the spatial dependency information in our image. Time to change that!\n",
        "\n",
        "Chain two Conv2D layers in the beginning of the network (remove the Flatten operation) and follow each one with a MaxPooling2D layer to downscale the resolution of the hidden representations. Finally add some normal FC layers to map the convolutional features to the output classes. (You will need to re-add a Flatten() operation for this).\n",
        "Play around with different architectures and keep track of the following variables:\n",
        "- Total number of trainable parameters in the network\n",
        "- Network depth (how many non-linear layers do I have that transform the data from pixel-space to label-space?)\n",
        "- Training time per epoch\n",
        "- Final accuracy after training for N epochs\n",
        "\n",
        "You can find the documentation for the Conv2D layers here: https://keras.io/layers/convolutional/\n",
        "\n",
        "**Extra question:** What does the MaxPooling2D operation do exactly? Do we lose any information in this step? What is good/bad about that?"
      ]
    },
    {
      "metadata": {
        "id": "PMWBzh99Jkoa",
        "colab_type": "code",
        "colab": {}
      },
      "cell_type": "code",
      "source": [
        "model = tf.keras.Sequential()\n",
        "\n",
        "# Define the model:\n",
        "\n",
        "# Take a look at the model summary\n",
        "model.summary()\n",
        "model.compile(loss='categorical_crossentropy', optimizer='adam', metrics=['accuracy'])"
      ],
      "execution_count": 0,
      "outputs": []
    },
    {
      "metadata": {
        "scrolled": false,
        "id": "eyHXM1WJJkoh",
        "colab_type": "code",
        "colab": {}
      },
      "cell_type": "code",
      "source": [
        "#Define the callbacks you want:\n",
        "\n",
        "callbacks_list = # ToDo\n",
        "\n",
        "model.fit(x_train,\n",
        "         y_train,\n",
        "         batch_size=128,\n",
        "         epochs=25,\n",
        "         validation_data=(x_valid, y_valid),\n",
        "         callbacks=callbacks_list)"
      ],
      "execution_count": 0,
      "outputs": []
    },
    {
      "metadata": {
        "id": "a1vuCOJvJkoq",
        "colab_type": "text"
      },
      "cell_type": "markdown",
      "source": [
        "## Evaluate model"
      ]
    },
    {
      "metadata": {
        "id": "qhaWKS00Jkou",
        "colab_type": "code",
        "colab": {}
      },
      "cell_type": "code",
      "source": [
        "model.load_weights('model.weights.best.hdf5')\n",
        "score = model.evaluate(x_test, y_test, verbose=0)\n",
        "\n",
        "print('Test accuracy: %.2f%%' %(100*score[1]))"
      ],
      "execution_count": 0,
      "outputs": []
    },
    {
      "metadata": {
        "id": "zkfg9YJnJkoy",
        "colab_type": "text"
      },
      "cell_type": "markdown",
      "source": [
        "**Extra**:\n",
        "Run the visualize_model_predictions() function both on some examples from the training data and the test data, do you notice any differences? Is there an overall difference between the accuracy on the Train-set vs the Test-set? What is going on?"
      ]
    },
    {
      "metadata": {
        "id": "v64TEQtjJkoz",
        "colab_type": "code",
        "colab": {}
      },
      "cell_type": "code",
      "source": [
        "visualize_model_predictions(model, x_test, y_test)\n",
        "visualize_model_predictions(model, x_train, y_train)\n",
        "\n",
        "#Compute & compare train and test accuracies:\n"
      ],
      "execution_count": 0,
      "outputs": []
    },
    {
      "metadata": {
        "id": "KMReD6lZJko4",
        "colab_type": "text"
      },
      "cell_type": "markdown",
      "source": [
        "# 3 Regularization"
      ]
    },
    {
      "metadata": {
        "id": "morubUVeJko5",
        "colab_type": "text"
      },
      "cell_type": "markdown",
      "source": [
        "Our model currently has a lot of degrees of freedom (it has a LOT of trainable parameters and can therefore fit almost any function if we just keep training for long enough). This means our network is also prone to overfitting. \n",
        "\n",
        "In this section, let's add dropout layers between the main parts of our network to avoid overfitting.\n",
        "What is a good dropout rate?\n",
        "\n",
        "**Extra:** To get an idea of the degree to which these networks can overfit take a look at this amazing paper which shows that a large enough CNN can basically memorize a very large, random dataset: https://arxiv.org/abs/1611.03530\n",
        "\n",
        "**Extra:** Also try to add an L2 Regularization penalty to every layer in your network. What is a good setting of the multiplier constant? (see https://keras.io/regularizers/)"
      ]
    },
    {
      "metadata": {
        "id": "W3sZw9oiJko8",
        "colab_type": "code",
        "colab": {}
      },
      "cell_type": "code",
      "source": [
        "model = tf.keras.Sequential()\n",
        "\n",
        "# Define the model:\n",
        "\n",
        "# Take a look at the model summary\n",
        "model.summary()\n",
        "model.compile(loss='categorical_crossentropy', optimizer='adam', metrics=['accuracy'])"
      ],
      "execution_count": 0,
      "outputs": []
    },
    {
      "metadata": {
        "scrolled": false,
        "id": "6AW6YhklJkpC",
        "colab_type": "code",
        "colab": {}
      },
      "cell_type": "code",
      "source": [
        "callbacks_list = # ToDo\n",
        "\n",
        "model.fit(x_train,\n",
        "         y_train,\n",
        "         batch_size=128,\n",
        "         epochs=25,\n",
        "         validation_data=(x_valid, y_valid),\n",
        "         callbacks=callbacks_list)"
      ],
      "execution_count": 0,
      "outputs": []
    },
    {
      "metadata": {
        "id": "y3UIl4-mJkpI",
        "colab_type": "text"
      },
      "cell_type": "markdown",
      "source": [
        "## Evaluate model:"
      ]
    },
    {
      "metadata": {
        "id": "fn95PqjzJkpK",
        "colab_type": "code",
        "colab": {}
      },
      "cell_type": "code",
      "source": [
        "model.load_weights('model.weights.best.hdf5')\n",
        "\n",
        "test_score = model.evaluate(x_test, y_test, verbose=0)\n",
        "train_score = model.evaluate(x_train, y_train, verbose=0)\n",
        "print('Train accuracy: %.2f%% || Test accuracy: %.2f%%' %(100*train_score[1], 100*test_score[1]))"
      ],
      "execution_count": 0,
      "outputs": []
    },
    {
      "metadata": {
        "id": "Mlymzq_wJkpS",
        "colab_type": "text"
      },
      "cell_type": "markdown",
      "source": [
        "# 4 Data Augmentation\n",
        "In the real world, getting enough training data is often a problem. To show the effect of this, training your architecture from above using only 100 training images, what is the best test-accuracy you can get now?"
      ]
    },
    {
      "metadata": {
        "id": "1ZCMs049JkpT",
        "colab_type": "code",
        "colab": {}
      },
      "cell_type": "code",
      "source": [
        "model = tf.keras.Sequential()\n",
        "\n",
        "# You can use the previous model architecture:\n",
        "\n",
        "model.compile(loss='categorical_crossentropy', optimizer='adam', metrics=['accuracy'])"
      ],
      "execution_count": 0,
      "outputs": []
    },
    {
      "metadata": {
        "scrolled": false,
        "id": "iiQO-y1IJkpe",
        "colab_type": "code",
        "colab": {}
      },
      "cell_type": "code",
      "source": [
        "nr_samples_to_use = 100\n",
        "batch_size = 32\n",
        "\n",
        "callbacks_list = # Whatever you want to use\n",
        "\n",
        "model.fit(x_train[:nr_samples_to_use],\n",
        "         y_train[:nr_samples_to_use],\n",
        "         batch_size=batch_size,\n",
        "         epochs=50,\n",
        "         validation_data=(x_valid, y_valid),\n",
        "         callbacks=callbacks_list)"
      ],
      "execution_count": 0,
      "outputs": []
    },
    {
      "metadata": {
        "id": "DXEIN-v4Jkpk",
        "colab_type": "code",
        "colab": {}
      },
      "cell_type": "code",
      "source": [
        "model.load_weights('model.weights.best.hdf5')\n",
        "score = model.evaluate(x_test, y_test, verbose=0)\n",
        "\n",
        "print('Test accuracy: %.2f%%' %(100*score[1]))"
      ],
      "execution_count": 0,
      "outputs": []
    },
    {
      "metadata": {
        "id": "QgAHc0SgJkpp",
        "colab_type": "text"
      },
      "cell_type": "markdown",
      "source": [
        "## Lets augment our small Training-dataset at runtime using an ImageDataGenerator():\n",
        "See https://keras.io/preprocessing/image/"
      ]
    },
    {
      "metadata": {
        "id": "hDI5AgwdJkpt",
        "colab_type": "code",
        "colab": {}
      },
      "cell_type": "code",
      "source": [
        "from keras.preprocessing.image import ImageDataGenerator\n",
        "\n",
        "# this is the augmentation configuration we will use for training:\n",
        "train_datagen = ImageDataGenerator( #ToDo )\n",
        "\n",
        "# this is the augmentation configuration we will use for testing:\n",
        "validation_datagen = ImageDataGenerator()\n",
        "test_datagen = ImageDataGenerator()\n",
        "\n",
        "# compute quantities required for featurewise normalization\n",
        "# (std, mean, and principal components if ZCA whitening is applied)\n",
        "train_datagen.fit(x_train)\n",
        "validation_datagen.fit(x_valid)\n",
        "test_datagen.fit(x_test)"
      ],
      "execution_count": 0,
      "outputs": []
    },
    {
      "metadata": {
        "id": "oXVm4T8LJkp1",
        "colab_type": "text"
      },
      "cell_type": "markdown",
      "source": [
        "## Plot a few batches of augmented images to check the result of your Data Augmentation parameters\n",
        "Make sure you can still classify every augmented image yourself!"
      ]
    },
    {
      "metadata": {
        "scrolled": false,
        "id": "lXlEz3TLJkp3",
        "colab_type": "code",
        "colab": {}
      },
      "cell_type": "code",
      "source": [
        ""
      ],
      "execution_count": 0,
      "outputs": []
    },
    {
      "metadata": {
        "id": "TZzwcoq-Jkp6",
        "colab_type": "text"
      },
      "cell_type": "markdown",
      "source": [
        "## Use the ImageDataGenerator to augment the small Train-subset at runtime.\n",
        "What test-accuracy do you get now?"
      ]
    },
    {
      "metadata": {
        "id": "63NaJDGvJkp9",
        "colab_type": "code",
        "colab": {}
      },
      "cell_type": "code",
      "source": [
        "model = tf.keras.Sequential()\n",
        "\n",
        "# Use the same model as before\n",
        "\n",
        "model.compile(loss='categorical_crossentropy', optimizer='adam', metrics=['accuracy'])"
      ],
      "execution_count": 0,
      "outputs": []
    },
    {
      "metadata": {
        "scrolled": false,
        "id": "BycOCNSXJkqD",
        "colab_type": "code",
        "colab": {}
      },
      "cell_type": "code",
      "source": [
        "callbacks_list = # Up to you\n",
        "\n",
        "# fits the model on batches with real-time data augmentation:\n",
        "model.fit_generator(generator = train_datagen.flow(x_train[:nr_samples_to_use], y_train[:nr_samples_to_use], batch_size=batch_size),\n",
        "                    validation_data = validation_datagen.flow(x_valid, y_valid, batch_size=batch_size), \n",
        "                    steps_per_epoch = nr_samples_to_use // batch_size,\n",
        "                    callbacks=callbacks_list,\n",
        "                    use_multiprocessing=True,\n",
        "                    workers=8,\n",
        "                    epochs=100)"
      ],
      "execution_count": 0,
      "outputs": []
    },
    {
      "metadata": {
        "id": "l2xZIPRQJkqI",
        "colab_type": "code",
        "colab": {}
      },
      "cell_type": "code",
      "source": [
        "model.load_weights('model.weights.best.hdf5')\n",
        "score = model.evaluate(x_test, y_test, verbose=0)\n",
        "\n",
        "print('Test accuracy: %.2f%%' %(100*score[1]))"
      ],
      "execution_count": 0,
      "outputs": []
    },
    {
      "metadata": {
        "id": "qT1v_x6HJkqN",
        "colab_type": "code",
        "colab": {}
      },
      "cell_type": "code",
      "source": [
        "## Note: Data Augmentation on Fashion-MNIST is not the most effective. \n",
        "## But the concept is very generally usefull for a lot of Deep Learning problems, hence the inclusion here!"
      ],
      "execution_count": 0,
      "outputs": []
    },
    {
      "metadata": {
        "id": "EogK4eyIJkqQ",
        "colab_type": "text"
      },
      "cell_type": "markdown",
      "source": [
        "# Final assignment\n",
        "### Finally, throw everything together and try to get the best possible performance on the Test-set! Who will win?\n",
        "\n",
        "For the Pro's, here are some additional tips:\n",
        "* Try Batch-Normalization layers\n",
        "* Play around with the Data Augmentation parameters a lot: augmenting data is good, but you don't want to push your training data distribution to far out (the test-data is not augmented!!) For example: sneakers, sandals and boots are always facing left in the Fashion-MNIST dataset, so random-horizontal flipping isn't the best option here...\n",
        "* You could also experiment with some of the newer activation functions like LeakyReLU, SeLU, ...\n",
        "* Cyclical learning rates\n",
        "* ..."
      ]
    },
    {
      "metadata": {
        "id": "tCKTae48JkqS",
        "colab_type": "code",
        "colab": {}
      },
      "cell_type": "code",
      "source": [
        ""
      ],
      "execution_count": 0,
      "outputs": []
    }
  ]
}